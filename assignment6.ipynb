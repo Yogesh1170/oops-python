{
 "cells": [
  {
   "cell_type": "code",
   "execution_count": 4,
   "id": "f0bf76b3-8b9b-4b38-8633-b8ed586d8708",
   "metadata": {},
   "outputs": [],
   "source": [
    "'''Q1. Explain Class and Object with respect to Object-Oriented Programming. Give a suitable example.'''\n",
    "'''class is basically a blueprint or template that define a structure. object are states and behaviour example human being have behaviour \n",
    "as colour , name etc'''\n",
    "class pwskills:\n",
    "    course = \"data scirnce\"\n",
    "    price = 3500"
   ]
  },
  {
   "cell_type": "code",
   "execution_count": 7,
   "id": "4e84220b-6d31-4142-b62e-f9c73c66286f",
   "metadata": {},
   "outputs": [],
   "source": [
    "pw_obj=pwskills\n",
    "#class is pwskills and pw_obj is object"
   ]
  },
  {
   "cell_type": "code",
   "execution_count": 8,
   "id": "8fffcfa4-d0a3-4b5b-aefd-670e002f2d23",
   "metadata": {},
   "outputs": [],
   "source": [
    "#Q2. Name the four pillars of OOPs.\n",
    "#The four pillars of OOPs are encapsulation, abstraction, inheritance, and polymorphism.\n"
   ]
  },
  {
   "cell_type": "code",
   "execution_count": 10,
   "id": "deb18299-976e-447d-baaa-b32345c17081",
   "metadata": {},
   "outputs": [],
   "source": [
    "#Q3. Explain why the __init__() function is used. Give a suitable example.\n",
    "#The __init__ method lets the class initialize the object's attributes and serves no other purpose. It is only used within classes.\n",
    "class pwskills:\n",
    "    def __init__(self, name , mob_no):\n",
    "        self.name = name\n",
    "        self.mob_no=mob_no"
   ]
  },
  {
   "cell_type": "code",
   "execution_count": 18,
   "id": "ff10db91-c40d-4b3d-af8d-88209ab7f4c9",
   "metadata": {},
   "outputs": [
    {
     "data": {
      "text/plain": [
       "'self represents the instance of the class. By using the “self” we can access the attributes and methods of the class in python. \\nIt binds the attributes with the given arguments.'"
      ]
     },
     "execution_count": 18,
     "metadata": {},
     "output_type": "execute_result"
    }
   ],
   "source": [
    "#Q4. Why self is used in OOPs?\n",
    "'''self represents the instance of the class. By using the “self” we can access the attributes and methods of the class in python. \n",
    "It binds the attributes with the given arguments.'''"
   ]
  },
  {
   "cell_type": "code",
   "execution_count": 40,
   "id": "38ddf516-b27d-4b85-b857-4c19e2cc6ca6",
   "metadata": {},
   "outputs": [],
   "source": [
    "#Q5. What is inheritance? Give an example for each type of inheritance.\n",
    "'''Inheritance is defined as the mechanism of inheriting the properties of the base class to the child class.there are two types of\n",
    "inheritence multilevel and multiple.'''\n",
    "class class1:\n",
    "    def test_class1():\n",
    "        return 'from class1'"
   ]
  },
  {
   "cell_type": "code",
   "execution_count": 55,
   "id": "e8ac55f1-7485-4267-b609-75d1afb53cf5",
   "metadata": {},
   "outputs": [],
   "source": [
    "class class2(class1):\n",
    "    def test_class2():\n",
    "        return 'from class2'\n",
    "    "
   ]
  },
  {
   "cell_type": "code",
   "execution_count": 56,
   "id": "a9311604-7cee-4efe-8bdb-840b509eaddd",
   "metadata": {},
   "outputs": [],
   "source": [
    "class class3(class2):\n",
    "    pass"
   ]
  },
  {
   "cell_type": "code",
   "execution_count": 57,
   "id": "583df538-6cb4-4deb-af41-c1f558e39247",
   "metadata": {},
   "outputs": [],
   "source": [
    "obj_class3= class3()"
   ]
  },
  {
   "cell_type": "code",
   "execution_count": 58,
   "id": "d6f6c18f-42ee-4a26-9433-83a00889e1f4",
   "metadata": {},
   "outputs": [
    {
     "data": {
      "text/plain": [
       "'from class1'"
      ]
     },
     "execution_count": 58,
     "metadata": {},
     "output_type": "execute_result"
    }
   ],
   "source": [
    "class3.test_class1()"
   ]
  },
  {
   "cell_type": "code",
   "execution_count": 59,
   "id": "0bad27b9-23e2-497a-956d-8d93de9e79c0",
   "metadata": {},
   "outputs": [
    {
     "data": {
      "text/plain": [
       "<function __main__.class2.test_class2()>"
      ]
     },
     "execution_count": 59,
     "metadata": {},
     "output_type": "execute_result"
    }
   ],
   "source": [
    "class3.test_class2"
   ]
  },
  {
   "cell_type": "code",
   "execution_count": 60,
   "id": "3b32570d-b874-429d-8df0-95f8356901b8",
   "metadata": {},
   "outputs": [],
   "source": [
    "class class1:\n",
    "    def test_class1(self):\n",
    "        print('this is my first class')"
   ]
  },
  {
   "cell_type": "code",
   "execution_count": 61,
   "id": "3bf2587c-4303-4ead-8569-bcb5c9a457e2",
   "metadata": {},
   "outputs": [],
   "source": [
    "class class2:\n",
    "    def test_class2(self):\n",
    "        print('this is my second class')"
   ]
  },
  {
   "cell_type": "code",
   "execution_count": 62,
   "id": "a58efd27-dfcd-4304-b65d-0bb66b04aa76",
   "metadata": {},
   "outputs": [],
   "source": [
    "class class3(class1,class2):\n",
    "    pass"
   ]
  },
  {
   "cell_type": "code",
   "execution_count": 63,
   "id": "21511a1e-30da-4147-9ed2-0d1b1fcd3d24",
   "metadata": {},
   "outputs": [],
   "source": [
    "obj_class3=class3()"
   ]
  },
  {
   "cell_type": "code",
   "execution_count": 65,
   "id": "76f40a96-98b4-4123-8b14-dc07e64575e4",
   "metadata": {},
   "outputs": [
    {
     "name": "stdout",
     "output_type": "stream",
     "text": [
      "this is my first class\n"
     ]
    }
   ],
   "source": [
    "class3().test_class1()"
   ]
  },
  {
   "cell_type": "code",
   "execution_count": 67,
   "id": "f673338a-d02f-443d-8e97-229f7df73b9e",
   "metadata": {},
   "outputs": [
    {
     "data": {
      "text/plain": [
       "<function __main__.class2.test_class2(self)>"
      ]
     },
     "execution_count": 67,
     "metadata": {},
     "output_type": "execute_result"
    }
   ],
   "source": [
    "class3.test_class2"
   ]
  },
  {
   "cell_type": "code",
   "execution_count": null,
   "id": "ac4eecfb-f4af-4e9b-abd1-8c5e90518fc5",
   "metadata": {},
   "outputs": [],
   "source": []
  }
 ],
 "metadata": {
  "kernelspec": {
   "display_name": "Python 3 (ipykernel)",
   "language": "python",
   "name": "python3"
  },
  "language_info": {
   "codemirror_mode": {
    "name": "ipython",
    "version": 3
   },
   "file_extension": ".py",
   "mimetype": "text/x-python",
   "name": "python",
   "nbconvert_exporter": "python",
   "pygments_lexer": "ipython3",
   "version": "3.10.8"
  }
 },
 "nbformat": 4,
 "nbformat_minor": 5
}
